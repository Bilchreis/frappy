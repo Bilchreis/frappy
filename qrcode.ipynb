{
 "cells": [
  {
   "cell_type": "code",
   "execution_count": 30,
   "metadata": {},
   "outputs": [
    {
     "name": "stdout",
     "output_type": "stream",
     "text": [
      "204\n"
     ]
    },
    {
     "data": {
      "text/plain": [
       "(False, (), None, ())"
      ]
     },
     "execution_count": 30,
     "metadata": {},
     "output_type": "execute_result"
    }
   ],
   "source": [
    "%matplotlib inline\n",
    "#The line above is necesary to show Matplotlib's plots inside a Jupyter Notebook\n",
    "\n",
    "import cv2\n",
    "from matplotlib import pyplot as plt\n",
    "import numpy as np\n",
    "\n",
    "\n",
    "def adjust_gamma(image, gamma=1.0):\n",
    "\t# build a lookup table mapping the pixel values [0, 255] to\n",
    "\t# their adjusted gamma values\n",
    "\tinvGamma = 1.0 / gamma\n",
    "\ttable = np.array([((i / 255.0) ** invGamma) * 255\n",
    "\t\tfor i in np.arange(0, 256)]).astype(\"uint8\")\n",
    "\t# apply gamma correction using the lookup table\n",
    "\treturn cv2.LUT(image, table)\n",
    "\n",
    "\n",
    "\n",
    "img = cv2.imread('saved_qr_img_2.png')\n",
    "\n",
    "img = adjust_gamma(img, gamma=0.3)\n",
    "\n",
    "\n",
    "# ksize \n",
    "ksize = (20, 20) \n",
    "  \n",
    "# Using cv2.blur() method  \n",
    "img = cv2.blur(img, ksize, cv2.BORDER_DEFAULT)\n",
    "\n",
    "\n",
    "down_width = 900\n",
    "down_height = 900\n",
    "down_points = (down_width, down_height)\n",
    "img = cv2.resize(img, down_points, interpolation= cv2.INTER_LINEAR)\n",
    "\n",
    "#img = cv2.bitwise_not(img)\n",
    "\n",
    "#ret, thresh = cv2.threshold(img, 90,255,cv2.THRESH_BINARY )\n",
    "#img = cv2.bitwise_not(thresh, thresh)\n",
    "\n",
    "print(np.amax(img))\n",
    "\n",
    "\n",
    "\n",
    "\n",
    "\n",
    "cv2.imwrite(\"processed.png\", img)\n",
    "\n",
    "#qcd = cv2.QRCodeDetector()\n",
    "\n",
    "#qcd.detectAndDecodeMulti(img)\n",
    "\n",
    "\n"
   ]
  },
  {
   "cell_type": "code",
   "execution_count": 50,
   "metadata": {},
   "outputs": [
    {
     "name": "stdout",
     "output_type": "stream",
     "text": [
      "('HZB-V1.0-1test01',)\n",
      "('HZB-V0.1-01234',)\n",
      "('HZB-V1.0-1test03',)\n",
      "('HZB-V1.0-1test02',)\n",
      "()\n",
      "()\n"
     ]
    }
   ],
   "source": [
    "from qreader import QReader\n",
    "\n",
    "for i in range(1, 7):\n",
    "\n",
    "    img = cv2.imread(f'saved_qr_img_{i}.png')\n",
    "\n",
    "\n",
    "    #img = cv2.bitwise_not(img)\n",
    "    qreader = QReader()\n",
    "\n",
    "\n",
    "    sample_id =qreader.detect_and_decode(image=img)\n",
    "\n",
    "    print(sample_id)"
   ]
  }
 ],
 "metadata": {
  "kernelspec": {
   "display_name": "._venv",
   "language": "python",
   "name": "python3"
  },
  "language_info": {
   "codemirror_mode": {
    "name": "ipython",
    "version": 3
   },
   "file_extension": ".py",
   "mimetype": "text/x-python",
   "name": "python",
   "nbconvert_exporter": "python",
   "pygments_lexer": "ipython3",
   "version": "3.10.12"
  }
 },
 "nbformat": 4,
 "nbformat_minor": 2
}
